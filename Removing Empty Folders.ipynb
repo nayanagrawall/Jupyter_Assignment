{
 "cells": [
  {
   "cell_type": "code",
   "execution_count": 13,
   "id": "b743ef84",
   "metadata": {},
   "outputs": [
    {
     "name": "stdout",
     "output_type": "stream",
     "text": [
      "Enter a folder path: C:\\Users\\Nayan\\Downloads\n",
      "C:\\Users\\Nayan\\Downloads\n",
      "The folder path exists\n",
      "Process Completed. Removed 4 Files\n"
     ]
    }
   ],
   "source": [
    "# Python script to remove the empty folders in a directory\n",
    "import os\n",
    "\n",
    "c=0\n",
    "def remove_empty_folders(directory_path):\n",
    "    global c\n",
    "    for root, dirs, files in os.walk(directory_path, topdown=False):\n",
    "        for folder in dirs:\n",
    "            folder_path = os.path.join(root, folder)\n",
    "            if not os.listdir(folder_path):\n",
    "                c=c+1\n",
    "                os.rmdir(folder_path)\n",
    "\n",
    "path = input('Enter a folder path: ')\n",
    "print(path)\n",
    "\n",
    "if os.path.exists(path):\n",
    "    print('The folder path exists')\n",
    "    remove_empty_folders(path)\n",
    "else:\n",
    "    print(\"The folder path donot exists\")\n",
    "print('Process Completed. Removed {} Files'.format(c))"
   ]
  },
  {
   "cell_type": "code",
   "execution_count": null,
   "id": "ce818430",
   "metadata": {},
   "outputs": [],
   "source": []
  }
 ],
 "metadata": {
  "kernelspec": {
   "display_name": "Python 3 (ipykernel)",
   "language": "python",
   "name": "python3"
  },
  "language_info": {
   "codemirror_mode": {
    "name": "ipython",
    "version": 3
   },
   "file_extension": ".py",
   "mimetype": "text/x-python",
   "name": "python",
   "nbconvert_exporter": "python",
   "pygments_lexer": "ipython3",
   "version": "3.10.9"
  }
 },
 "nbformat": 4,
 "nbformat_minor": 5
}
