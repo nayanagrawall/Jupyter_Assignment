{
 "cells": [
  {
   "cell_type": "code",
   "execution_count": 1,
   "id": "218ac4ab",
   "metadata": {},
   "outputs": [],
   "source": [
    "import os\n",
    "\n",
    "from shutil import move\n",
    "\n",
    "def sort_files(directory_path):\n",
    "    c=0\n",
    "    for filename in os.listdir(directory_path):\n",
    "        if os.path.isfile(os.path.join(directory_path, filename)):\n",
    "            print(os.path.join(directory_path, filename))\n",
    "            file_extension = filename.split('.')[-1]\n",
    "            destination_directory = os.path.join(directory_path, file_extension)\n",
    "            if not os.path.exists(destination_directory):\n",
    "                os.makedirs(destination_directory)\n",
    "            move(os.path.join(directory_path, filename), os.path.join(destination_directory, filename))\n",
    "\n",
    "\n",
    "path = input('Enter a folder path: ')\n",
    "print(path)\n",
    "\n",
    "if os.path.exists(path):\n",
    "    print('The folder path exists')\n",
    "sort_files(path)"
   ]
  },
  {
   "cell_type": "code",
   "execution_count": null,
   "id": "e14ac660",
   "metadata": {},
   "outputs": [],
   "source": []
  }
 ],
 "metadata": {
  "kernelspec": {
   "display_name": "Python 3 (ipykernel)",
   "language": "python",
   "name": "python3"
  },
  "language_info": {
   "codemirror_mode": {
    "name": "ipython",
    "version": 3
   },
   "file_extension": ".py",
   "mimetype": "text/x-python",
   "name": "python",
   "nbconvert_exporter": "python",
   "pygments_lexer": "ipython3",
   "version": "3.10.9"
  }
 },
 "nbformat": 4,
 "nbformat_minor": 5
}
