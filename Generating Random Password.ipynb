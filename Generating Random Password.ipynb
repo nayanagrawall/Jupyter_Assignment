{
 "cells": [
  {
   "cell_type": "code",
   "execution_count": 8,
   "id": "4db961ce",
   "metadata": {},
   "outputs": [
    {
     "name": "stdout",
     "output_type": "stream",
     "text": [
      "Enter length of the password required 7\n",
      "Your randomly generated password is KXN@:@/\n",
      "\n",
      "Do you want to generate new password\n",
      "1. Yes \n",
      "2. No \n",
      "8\n",
      "Wrong input value\n"
     ]
    }
   ],
   "source": [
    "# Generating ramdom passwords by inputing length of the password\n",
    "import random\n",
    "import string\n",
    "\n",
    "def generate_random_text(length):\n",
    "    letters = string.ascii_letters + string.digits + string.punctuation\n",
    "    password = ''.join(random.choice(letters) for i in range(length))\n",
    "    return password\n",
    "\n",
    "l=1\n",
    "while(l == 1):\n",
    "    length_of_password = int(input('Enter length of the password required '))\n",
    "    print('Your randomly generated password is {}'.format(generate_random_text(length_of_password)))\n",
    "\n",
    "    print('\\nDo you want to generate new password')\n",
    "    decision = int(input('1. Yes \\n2. No \\n'))\n",
    "    if (decision == 2):\n",
    "        l = l+1\n",
    "    else:\n",
    "        print('Wrong input value')\n",
    "        l = l+1"
   ]
  },
  {
   "cell_type": "code",
   "execution_count": null,
   "id": "9f1c56b2",
   "metadata": {},
   "outputs": [],
   "source": []
  }
 ],
 "metadata": {
  "kernelspec": {
   "display_name": "Python 3 (ipykernel)",
   "language": "python",
   "name": "python3"
  },
  "language_info": {
   "codemirror_mode": {
    "name": "ipython",
    "version": 3
   },
   "file_extension": ".py",
   "mimetype": "text/x-python",
   "name": "python",
   "nbconvert_exporter": "python",
   "pygments_lexer": "ipython3",
   "version": "3.10.9"
  }
 },
 "nbformat": 4,
 "nbformat_minor": 5
}
